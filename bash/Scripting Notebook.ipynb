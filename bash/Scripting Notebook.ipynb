{
 "cells": [
  {
   "cell_type": "markdown",
   "metadata": {},
   "source": [
    "# Scripting básico en Bash\n",
    "\n",
    "*Este notebook necesita el kernel [Calysto Bash](https://github.com/Calysto/calysto_bash) para funcionar. Se puede instalar mediante `pip install calysto-bash`.*\n",
    "\n",
    "Un script de **Bash** es un archivo de texto que contiene comandos y sentencias de Bash. Para ejecutar un script, se puede utilizar el comando `bash nombre_script.sh` o hacer que el script sea ejecutable con `chmod +x nombre_script.sh` y luego ejecutarlo con `./nombre_script.sh`.\n",
    "\n",
    "## Declarar un intérprete por defecto\n",
    "\n",
    "La primera línea de un script de Bash debe ser `#!/bin/bash` (o el path al intérprete de Bash en tu sistema). Esto le indica al sistema operativo que utilice Bash para ejecutar el script y a menudo se lo conoce como *hash-bang*, *she-bang* o *sha-bang*."
   ]
  },
  {
   "cell_type": "code",
   "execution_count": null,
   "metadata": {
    "vscode": {
     "languageId": "shellscript"
    }
   },
   "outputs": [],
   "source": [
    "# Ejemplo de script básico\n",
    "\n",
    "#!/bin/bash\n",
    "echo \"Hola, mundo!\""
   ]
  },
  {
   "cell_type": "markdown",
   "metadata": {},
   "source": [
    "Guardar este script en un archivo llamado `hola_mundo.sh`, hacerlo ejecutable con `chmod +x hola_mundo.sh` y ejecutarlo con `./hola_mundo.sh`.\n",
    "\n",
    "## Estructura básica de un script\n",
    "\n",
    "Generalmente la estructura de un script es la siguiente:\n",
    "\n",
    "- Shebang (`#!/bin/bash`)\n",
    "- Comentarios (`# Comentarios...`)\n",
    "- Declaraciones de variables\n",
    "- Sentencias de control (if, for, while, etc.)\n",
    "- Llamadas a comandos y funciones\n",
    "- Fin del script\n",
    "\n",
    "### Variables\n",
    "\n",
    "- Declarar una variable: `nombre_variable=valor`\n",
    "- Acceder a una variable: `$nombre_variable`"
   ]
  },
  {
   "cell_type": "code",
   "execution_count": null,
   "metadata": {
    "vscode": {
     "languageId": "shellscript"
    }
   },
   "outputs": [],
   "source": [
    "mi_variable=\"hola mundo\"\n",
    "echo $mi_variable"
   ]
  },
  {
   "cell_type": "markdown",
   "metadata": {},
   "source": [
    "### Entrada de ordenes (input)\n",
    "\n",
    "- Leer entrada del usuario: `read variable`"
   ]
  },
  {
   "cell_type": "code",
   "execution_count": null,
   "metadata": {
    "vscode": {
     "languageId": "shellscript"
    }
   },
   "outputs": [],
   "source": [
    "echo \"Ingrese su nombre: \"\n",
    "read nombre\n",
    "echo \"Hola, $nombre!\""
   ]
  },
  {
   "cell_type": "markdown",
   "metadata": {},
   "source": [
    "### Operadores de comparación\n",
    "\n",
    "- Números:\n",
    "  - `-eq` igual (equal)\n",
    "  - `-ne` diferente (not equal)\n",
    "  - `-gt` mayor que (greater than)\n",
    "  - `-lt` menor que (low than)\n",
    "  - `-ge` mayor o igual que (greater than equal)\n",
    "  - `-le` menor o igual que (low than equal)\n",
    "\n",
    "- Lógicos:\n",
    "  - `&&` y (and)\n",
    "  - `||` o (or)\n",
    "\n",
    "- Strings:\n",
    "  - `==` igual\n",
    "  - `!=` diferente\n",
    "  - `>` mayor que (lexicográficamente)\n",
    "  - `<` menor que (lexicográficamente)\n",
    "\n",
    "###  Expresiones aritméticas\n",
    "\n",
    "Las expresiones aritméticas permiten realizar cálculos matemáticos directamente dentro de los scripts. Bash proporciona diferentes formas de evaluar expresiones aritméticas usando `$(())`, `let`, o incluso `expr`, aunque `$(())` es el método más común y moderno.\n",
    "\n",
    "#### Sintaxis básica\n",
    "\n",
    "`$(())` Permite evaluar una expresión aritmética. no necesita el signo `$` para las variables.\n",
    "\n",
    "#### Operadores aritméticos comunes\n",
    "\n",
    "- Suma `+`"
   ]
  },
  {
   "cell_type": "code",
   "execution_count": null,
   "metadata": {
    "vscode": {
     "languageId": "shellscript"
    }
   },
   "outputs": [],
   "source": [
    "# Asigna 5 a la variable resultado\n",
    "((resultado = 3 + 2))\n",
    "echo $resultado"
   ]
  },
  {
   "cell_type": "markdown",
   "metadata": {},
   "source": [
    "- Resta `-`"
   ]
  },
  {
   "cell_type": "code",
   "execution_count": null,
   "metadata": {
    "vscode": {
     "languageId": "shellscript"
    }
   },
   "outputs": [],
   "source": [
    "# Asigna 3 a la variable resultado\n",
    "((resultado = 5 - 2))\n",
    "echo $resultado"
   ]
  },
  {
   "cell_type": "markdown",
   "metadata": {},
   "source": [
    "- Multiplicación `*`"
   ]
  },
  {
   "cell_type": "code",
   "execution_count": null,
   "metadata": {
    "vscode": {
     "languageId": "shellscript"
    }
   },
   "outputs": [],
   "source": [
    "# Asigna 6 a la variable resultado\n",
    "((resultado = 3 * 2))\n",
    "echo $resultado"
   ]
  },
  {
   "cell_type": "markdown",
   "metadata": {},
   "source": [
    "- División `/`"
   ]
  },
  {
   "cell_type": "code",
   "execution_count": null,
   "metadata": {
    "vscode": {
     "languageId": "shellscript"
    }
   },
   "outputs": [],
   "source": [
    "# Asigna 3 a la variable resultado\n",
    "((resultado = 6 / 2))\n",
    "echo $resultado "
   ]
  },
  {
   "cell_type": "markdown",
   "metadata": {},
   "source": [
    "- Módulo `%`"
   ]
  },
  {
   "cell_type": "code",
   "execution_count": null,
   "metadata": {
    "vscode": {
     "languageId": "shellscript"
    }
   },
   "outputs": [],
   "source": [
    "# Asigna 1 a la variable resultado\n",
    "((resultado = 5 % 2))\n",
    "echo $resultado"
   ]
  },
  {
   "cell_type": "markdown",
   "metadata": {},
   "source": [
    "- Incremento `++`\n",
    "  - Post-incremento: `contador++` usa el valor actual de `contador` y luego lo incrementa.\n",
    "  - Pre-incremento: `++contador` incrementa `contador` primero y luego usa su nuevo valor.\n",
    "\n",
    "- Decremento `--`\n",
    "  - Post-decremento: `contador--` usa el valor actual de `contador` y luego lo disminuye.\n",
    "  - Pre-decremento: `--contador` decrementa primero y luego usa el valor actualizado.\n",
    "\n",
    "### Operadores de comparación\n",
    "\n",
    "Las expresiones aritméticas también admiten operadores de comparación. Los resultados de estas comparaciones son `1` para verdadero y `0` para falso:\n",
    "\n",
    "- **Mayor que**: `>` (ejemplo: `((a > b))`)\n",
    "- **Menor que**: `<`\n",
    "- **Mayor o igual que**: `>=`\n",
    "- **Menor o igual que**: `<=`\n",
    "- **Igual a**: `==`\n",
    "- **Distinto de**: `!=`"
   ]
  },
  {
   "cell_type": "code",
   "execution_count": null,
   "metadata": {
    "vscode": {
     "languageId": "shellscript"
    }
   },
   "outputs": [],
   "source": [
    "a=5\n",
    "b=10\n",
    "if ((a < b)); then\n",
    "    echo \"$a es menor que $b\"\n",
    "fi"
   ]
  },
  {
   "cell_type": "markdown",
   "metadata": {},
   "source": [
    "### Uso con `let`\n",
    "\n",
    "Otra forma de realizar operaciones aritméticas es usando el comando `let`:"
   ]
  },
  {
   "cell_type": "code",
   "execution_count": null,
   "metadata": {
    "vscode": {
     "languageId": "shellscript"
    }
   },
   "outputs": [],
   "source": [
    "let resultado=5+3\n",
    "echo $resultado  # Imprime 8"
   ]
  },
  {
   "cell_type": "markdown",
   "metadata": {},
   "source": [
    "Sin embargo, `$(())` es más moderno y flexible, por lo que suele ser preferido.\n",
    "\n",
    "### Uso con `expr` (menos común)"
   ]
  },
  {
   "cell_type": "code",
   "execution_count": null,
   "metadata": {
    "vscode": {
     "languageId": "shellscript"
    }
   },
   "outputs": [],
   "source": [
    "resultado=$(expr 5 + 3)\n",
    "echo $resultado  # Imprime 8"
   ]
  },
  {
   "cell_type": "markdown",
   "metadata": {},
   "source": [
    "`expr` es una forma más antigua y limitada para realizar cálculos, por lo que es menos recomendada.\n",
    "\n",
    "### Resumen\n",
    "\n",
    "- **`$(())`** es la forma más común y preferida para hacer operaciones matemáticas.\n",
    "- Puedes usar operadores aritméticos (`+`, `-`, `*`, `/`, `%`, `++`, `--`) y operadores de comparación (`==`, `!=`, `>`, `<`, `>=`, `<=`).\n",
    "- Hay varias formas de incrementar y decrementar una variable con `++` y `--`.\n",
    "\n",
    "### Condicional (if)\n",
    "\n",
    "- Sintaxis básica: `if condición; then acciones; fi`"
   ]
  },
  {
   "cell_type": "code",
   "execution_count": null,
   "metadata": {
    "vscode": {
     "languageId": "shellscript"
    }
   },
   "outputs": [],
   "source": [
    "mi_variable=\"hola mundo\"\n",
    "\n",
    "if [ \"$mi_variable\" == \"hola mundo\" ]; then\n",
    "    echo \"La variable es igual a 'hola mundo'\"\n",
    "fi"
   ]
  },
  {
   "cell_type": "markdown",
   "metadata": {},
   "source": [
    "Estructura condicional if, else, y elif:"
   ]
  },
  {
   "cell_type": "code",
   "execution_count": null,
   "metadata": {
    "vscode": {
     "languageId": "shellscript"
    }
   },
   "outputs": [],
   "source": [
    "if [ condición1 ]; then\n",
    "    # Bloque de código si la condición1 es verdadera\n",
    "elif [ condición2 ]; then\n",
    "    # Bloque de código si la condición1 es falsa y la condición2 es verdadera\n",
    "else\n",
    "    # Bloque de código si todas las condiciones anteriores son falsas\n",
    "fi"
   ]
  },
  {
   "cell_type": "code",
   "execution_count": null,
   "metadata": {
    "vscode": {
     "languageId": "shellscript"
    }
   },
   "outputs": [],
   "source": [
    "read -p \"Introduce un número: \" num\n",
    "\n",
    "if [ \"$num\" -lt 0 ]; then\n",
    "    echo \"El número es negativo.\"\n",
    "elif [ \"$num\" -eq 0 ]; then\n",
    "    echo \"El número es cero.\"\n",
    "else\n",
    "    echo \"El número es positivo.\"\n",
    "fi"
   ]
  },
  {
   "cell_type": "markdown",
   "metadata": {},
   "source": [
    "#### [ versus [[\n",
    "\n",
    "Hay 2 comandos que se usan a menudo en las declaraciones if: `[` y `[[`:\n",
    "\n",
    "`/usr/bin/[` También conocido como *test*, es un programa que devuelve `0` si la prueba que se le pasa tiene éxito."
   ]
  },
  {
   "cell_type": "code",
   "execution_count": null,
   "metadata": {
    "vscode": {
     "languageId": "shellscript"
    }
   },
   "outputs": [],
   "source": [
    "if [ -e file.txt ]"
   ]
  },
  {
   "cell_type": "markdown",
   "metadata": {},
   "source": [
    "`[[` Está integrado en bash. Permite realizar pruebas como `[[ -e x.txt && -e y.txt ]]` que no funcionarían con una herramienta de línea de comandos."
   ]
  },
  {
   "cell_type": "code",
   "execution_count": null,
   "metadata": {
    "vscode": {
     "languageId": "shellscript"
    }
   },
   "outputs": [],
   "source": [
    "if [[ -e file.txt ]]"
   ]
  },
  {
   "cell_type": "markdown",
   "metadata": {},
   "source": [
    "Ejemplos:\n",
    "\n",
    "- `if COMMAND` ¿*COMMAND* devolvió *0*?\n",
    "- `if ! COMMAND` ¿*COMMAND* **no** devolvió *0*?\n",
    "- `if [ -n \"$var.\" ]` ¿*$var* no esta vacio?\n",
    "- `if [ -d somedir ]` ¿Existe *somedir*?\n",
    "- `if [ -e file.txt ]` ¿Existe *file.txt*?\n",
    "- `if [ -x script.sh ]` ¿*script.sh* es ejecutable?\n",
    "- `if true` *true* siempre devuelve *0* :)\n",
    "- `if [ -e archivo ] && [ -e archivo2 ]` combinar con *&&* y *||*\n",
    "\n",
    "Con `man [` se puede aprender más.\n",
    "\n",
    "### Case\n",
    "\n",
    "- Sintaxis básica: `case valor in patron1) acciones1;; patron2) acciones2;; esac`\n",
    "- Compara el valor con los patrones y ejecuta las acciones correspondientes"
   ]
  },
  {
   "cell_type": "code",
   "execution_count": null,
   "metadata": {
    "vscode": {
     "languageId": "shellscript"
    }
   },
   "outputs": [],
   "source": [
    "echo \"Ingrese un color (rojo, verde, azul): \"\n",
    "read color\n",
    "case $color in\n",
    "    rojo) echo \"El color es rojo\";\n",
    "        echo \"Ejecuta otra orden\";\n",
    "        echo \"Y otra...\";;\n",
    "    verde) echo \"El color es verde\";;\n",
    "    azul) echo \"El color es azul\";;\n",
    "    *) echo \"Color desconocido\";;\n",
    "esac"
   ]
  },
  {
   "cell_type": "markdown",
   "metadata": {},
   "source": [
    "### Bucle for\n",
    "\n",
    "- Sintaxis básica: `for variable in lista; do acciones; done`"
   ]
  },
  {
   "cell_type": "code",
   "execution_count": null,
   "metadata": {
    "vscode": {
     "languageId": "shellscript"
    }
   },
   "outputs": [],
   "source": [
    "for numero in 1 2 3; do\n",
    "    echo \"Número: $numero\"\n",
    "done"
   ]
  },
  {
   "cell_type": "markdown",
   "metadata": {},
   "source": [
    "### Bucle while\n",
    "\n",
    "- Sintaxis básica: `while condición; do acciones; done`\n",
    "- Ejecuta las acciones mientras la condición sea verdadera"
   ]
  },
  {
   "cell_type": "code",
   "execution_count": null,
   "metadata": {
    "vscode": {
     "languageId": "shellscript"
    }
   },
   "outputs": [],
   "source": [
    "contador=0\n",
    "while [ $contador -lt 5 ]; do\n",
    "    echo \"Contador: $contador\"\n",
    "    ((contador++))\n",
    "done"
   ]
  },
  {
   "cell_type": "markdown",
   "metadata": {},
   "source": [
    "### Bucle until\n",
    "\n",
    "- Sintaxis básica: `until condición; do acciones; done`\n",
    "- Ejecuta las acciones mientras la condición sea falsa\n",
    "- Es similar al bucle while, pero con la condición invertida"
   ]
  },
  {
   "cell_type": "code",
   "execution_count": null,
   "metadata": {
    "vscode": {
     "languageId": "shellscript"
    }
   },
   "outputs": [],
   "source": [
    "contador=0\n",
    "until [ $contador -ge 5 ]; do\n",
    "    echo \"Contador: $contador\"\n",
    "    ((contador++))\n",
    "done"
   ]
  },
  {
   "cell_type": "markdown",
   "metadata": {},
   "source": [
    "## Listas\n",
    "\n",
    "En Bash, las listas se pueden implementar utilizando arreglos (*arrays*). Un arreglo es una variable que puede almacenar múltiples valores, y se puede acceder a cada valor utilizando un índice.\n",
    "\n",
    "Para declarar un arreglo en Bash: `nombre_arreglo=(valor1 valor2 valor3 ...)`:"
   ]
  },
  {
   "cell_type": "code",
   "execution_count": null,
   "metadata": {
    "vscode": {
     "languageId": "shellscript"
    }
   },
   "outputs": [],
   "source": [
    "frutas=(manzana banana naranja)"
   ]
  },
  {
   "cell_type": "markdown",
   "metadata": {},
   "source": [
    "Para acceder a un valor en el arreglo: `${nombre_arreglo[indice]}`:"
   ]
  },
  {
   "cell_type": "code",
   "execution_count": null,
   "metadata": {
    "vscode": {
     "languageId": "shellscript"
    }
   },
   "outputs": [],
   "source": [
    "frutas=(manzana banana naranja)\n",
    "echo ${frutas[0]}  # Imprime \"manzana\"\n",
    "echo ${frutas[1]}  # Imprime \"banana\""
   ]
  },
  {
   "cell_type": "markdown",
   "metadata": {},
   "source": [
    "También se puede utilizar `${nombre_arreglo[@]}` para acceder a todos los valores en el arreglo:"
   ]
  },
  {
   "cell_type": "code",
   "execution_count": null,
   "metadata": {
    "vscode": {
     "languageId": "shellscript"
    }
   },
   "outputs": [],
   "source": [
    "frutas=(manzana banana naranja)\n",
    "echo ${frutas[@]}  # Imprime \"manzana banana naranja\""
   ]
  },
  {
   "cell_type": "markdown",
   "metadata": {},
   "source": [
    "Otras operaciones que se pueden realizar con arreglos en Bash incluyen:\n",
    "\n",
    "- `nombre_arreglo=(\"${nombre_arreglo[@]}\" \"nuevo_valor\")`: Agrega un nuevo valor al final del arreglo.\n",
    "- `nombre_arreglo=(\"${nombre_arreglo[@]:0:${#nombre_arreglo[@]}-1}\")`: Elimina el último valor del arreglo.\n",
    "- `nombre_arreglo=(\"${nombre_arreglo[@]/valor_a_reemplazar/nuevo_valor}\")`: Reemplaza un valor en el arreglo.\n",
    "\n",
    "Para recorrer una lista en Bash utilizando un bucle `for`:"
   ]
  },
  {
   "cell_type": "code",
   "execution_count": null,
   "metadata": {
    "vscode": {
     "languageId": "shellscript"
    }
   },
   "outputs": [],
   "source": [
    "for elemento in \"${lista[@]}\"; do\n",
    "    # Acciones con $elemento\n",
    "done"
   ]
  },
  {
   "cell_type": "markdown",
   "metadata": {},
   "source": [
    "Donde `lista` es el nombre de la lista y `elemento` es la variable que tomará cada valor de la lista en cada iteración. Por ejemplo:"
   ]
  },
  {
   "cell_type": "code",
   "execution_count": null,
   "metadata": {
    "vscode": {
     "languageId": "shellscript"
    }
   },
   "outputs": [],
   "source": [
    "frutas=(manzana banana naranja)\n",
    "for fruta in \"${frutas[@]}\"; do\n",
    "    echo \"Fruta: $fruta\"\n",
    "done"
   ]
  },
  {
   "cell_type": "markdown",
   "metadata": {},
   "source": [
    "También se puede utilizar `for ((i=0; i<${#lista[@]}; i++)); do` para recorrer la lista utilizando un índice, donde `${#lista[@]}` devuelve el número de elementos en la lista:"
   ]
  },
  {
   "cell_type": "code",
   "execution_count": null,
   "metadata": {
    "vscode": {
     "languageId": "shellscript"
    }
   },
   "outputs": [],
   "source": [
    "# Definir un array\n",
    "frutas=(\"manzana\" \"banana\" \"naranja\")\n",
    "\n",
    "# Obtener la longitud del primer elemento (manzana)\n",
    "echo \"Longitud de 'manzana': ${#frutas[0]}\""
   ]
  },
  {
   "cell_type": "code",
   "execution_count": null,
   "metadata": {
    "vscode": {
     "languageId": "shellscript"
    }
   },
   "outputs": [],
   "source": [
    "frutas=(manzana banana naranja)\n",
    "for ((i=0; i<${#frutas[@]}; i++)); do\n",
    "    echo \"Fruta ${i}: ${frutas[i]}\"\n",
    "done"
   ]
  },
  {
   "cell_type": "markdown",
   "metadata": {},
   "source": [
    "## Funciones\n",
    "\n",
    "En Bash, una función es un bloque de código que se puede llamar varias veces desde diferentes partes de un script.\n",
    "\n",
    "### Declarar una función\n",
    "\n",
    "- Sintaxis básica: `nombre_funcion() { acciones; }`"
   ]
  },
  {
   "cell_type": "code",
   "execution_count": null,
   "metadata": {
    "vscode": {
     "languageId": "shellscript"
    }
   },
   "outputs": [],
   "source": [
    "saludar() {\n",
    "    echo \"Hola, $1!\"\n",
    "}"
   ]
  },
  {
   "cell_type": "markdown",
   "metadata": {},
   "source": [
    "En este ejemplo, se declara una función llamada `saludar` que toma un argumento (`$1`) y lo utiliza para saludar.\n",
    "\n",
    "### Llamar a una función\n",
    "\n",
    "- Sintaxis básica: `nombre_funcion argumentos`"
   ]
  },
  {
   "cell_type": "code",
   "execution_count": null,
   "metadata": {
    "vscode": {
     "languageId": "shellscript"
    }
   },
   "outputs": [],
   "source": [
    "saludar() {\n",
    "    echo \"Hola, $1!\"\n",
    "}\n",
    "\n",
    "saludar Juan"
   ]
  },
  {
   "cell_type": "markdown",
   "metadata": {},
   "source": [
    "En este ejemplo, se llama a la función `saludar` con el argumento `Juan`, lo que produce la salida `Hola, Juan!`.\n",
    "\n",
    "### Pasar argumentos a una función\n",
    "\n",
    "- Los argumentos se pasan separados por espacios\n",
    "- Los argumentos se acceden dentro de la función con `$1`, `$2`, `$3`, etc."
   ]
  },
  {
   "cell_type": "code",
   "execution_count": null,
   "metadata": {
    "vscode": {
     "languageId": "shellscript"
    }
   },
   "outputs": [],
   "source": [
    "sumar() {\n",
    "    echo \"$1 + $2 = $(( $1 + $2 ))\"\n",
    "}\n",
    "\n",
    "sumar 2 3"
   ]
  },
  {
   "cell_type": "markdown",
   "metadata": {},
   "source": [
    "En este ejemplo, se declara una función `sumar` que toma dos argumentos, los suma y muestra el resultado.\n",
    "\n",
    "## Recursos\n",
    "\n",
    "- [Curso de BASH en YouTube](https://youtu.be/geyLYfZcdtQ?si=oQMi_0npN5E9pyXA)\n",
    "- [La guía definitiva de línea de comandos de Linux: tutorial completo de bash](https://www.freecodecamp.org/espanol/news/la-guia-definitiva-de-linea-de-comandos-de-linux-tutorial-completo-de-bash/)\n",
    "- [Bash Script: qué es, cómo escribir uno y ejemplos](https://www.hostinger.com.ar/tutoriales/bash-script-linux)\n",
    "- [Scripts en Bash](https://atareao.es/tutorial/scripts-en-bash/)\n",
    "- [El terminal](https://atareao.es/tutorial/terminal/)\n",
    "- [Programación de tareas con cron](https://atareao.es/software/utilidades/programacion-de-tareas-con-cron/)"
   ]
  }
 ],
 "metadata": {
  "kernelspec": {
   "display_name": "Calysto Bash",
   "language": "bash",
   "name": "calysto_bash"
  },
  "language_info": {
   "file_extension": ".sh",
   "help_links": [
    {
     "text": "MetaKernel Magics",
     "url": "https://metakernel.readthedocs.io/en/latest/source/README.html"
    }
   ],
   "mimetype": "text/x-sh",
   "name": "bash",
   "version": "0.2.2"
  }
 },
 "nbformat": 4,
 "nbformat_minor": 2
}
